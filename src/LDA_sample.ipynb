{
 "cells": [
  {
   "cell_type": "markdown",
   "metadata": {},
   "source": [
    "pythonでトピックモデルを実行するサンプルです。  \n",
    "詳細は以下をご覧ください。  \n",
    "http://mathshingo.chillout.jp/blog27.html"
   ]
  },
  {
   "cell_type": "markdown",
   "metadata": {},
   "source": [
    "## 準備"
   ]
  },
  {
   "cell_type": "code",
   "execution_count": 1,
   "metadata": {},
   "outputs": [],
   "source": [
    "import pandas as pd\n",
    "import MeCab\n",
    "import gensim\n",
    "import numpy as np\n",
    "import matplotlib.pyplot as plt\n",
    "# 日本語化するために必要。フォントが入っていれば不要\n",
    "import japanize_matplotlib"
   ]
  },
  {
   "cell_type": "markdown",
   "metadata": {},
   "source": [
    "livedoorコーパスを使用します。  \n",
    "ダウンロードは以下のスクリプトを使用することをお勧めします。  \n",
    "https://gist.github.com/nxdataka/48a27b2e1c3f029e7f25e66dba4b6dde"
   ]
  },
  {
   "cell_type": "code",
   "execution_count": 3,
   "metadata": {},
   "outputs": [
    {
     "data": {
      "text/html": [
       "<div>\n",
       "<style scoped>\n",
       "    .dataframe tbody tr th:only-of-type {\n",
       "        vertical-align: middle;\n",
       "    }\n",
       "\n",
       "    .dataframe tbody tr th {\n",
       "        vertical-align: top;\n",
       "    }\n",
       "\n",
       "    .dataframe thead th {\n",
       "        text-align: right;\n",
       "    }\n",
       "</style>\n",
       "<table border=\"1\" class=\"dataframe\">\n",
       "  <thead>\n",
       "    <tr style=\"text-align: right;\">\n",
       "      <th></th>\n",
       "      <th>url</th>\n",
       "      <th>datetime</th>\n",
       "      <th>title</th>\n",
       "      <th>body</th>\n",
       "      <th>media</th>\n",
       "    </tr>\n",
       "  </thead>\n",
       "  <tbody>\n",
       "    <tr>\n",
       "      <th>0</th>\n",
       "      <td>http://news.livedoor.com/article/detail/5978741/</td>\n",
       "      <td>2011-10-30T10:15:00+0900</td>\n",
       "      <td>【DVDエンター！】誘拐犯に育てられた女が目にした真実は、孤独か幸福か</td>\n",
       "      <td>2005年11月から翌2006年7月まで読売新聞にて連載された、直木賞作家・角田光代による初...</td>\n",
       "      <td>movie-enter</td>\n",
       "    </tr>\n",
       "    <tr>\n",
       "      <th>1</th>\n",
       "      <td>http://news.livedoor.com/article/detail/6322901/</td>\n",
       "      <td>2012-02-29T11:45:00+0900</td>\n",
       "      <td>藤原竜也、中学生とともにロケット打ち上げに成功</td>\n",
       "      <td>「アンテナを張りながら生活をしていけばいい」\\n2月28日、映画『おかえり、はやぶさ』（3月...</td>\n",
       "      <td>movie-enter</td>\n",
       "    </tr>\n",
       "    <tr>\n",
       "      <th>2</th>\n",
       "      <td>http://news.livedoor.com/article/detail/6176324/</td>\n",
       "      <td>2012-01-09T14:00:00+0900</td>\n",
       "      <td>『戦火の馬』ロイヤル・プレミアにウィリアム王子＆キャサリン妃が出席</td>\n",
       "      <td>3月2日より全国ロードショーとなる、スティーブン・スピルバーグの待望の監督最新作『戦火の馬』...</td>\n",
       "      <td>movie-enter</td>\n",
       "    </tr>\n",
       "    <tr>\n",
       "      <th>3</th>\n",
       "      <td>http://news.livedoor.com/article/detail/6573929/</td>\n",
       "      <td>2012-05-19T12:00:00+0900</td>\n",
       "      <td>香里奈、女子高生100人のガチンコ質問に回答「ラーメンも食べる」</td>\n",
       "      <td>女優の香里奈が18日、都内で行われた映画『ガール』（5月26日公開）の女子高生限定試写会にサ...</td>\n",
       "      <td>movie-enter</td>\n",
       "    </tr>\n",
       "    <tr>\n",
       "      <th>4</th>\n",
       "      <td>http://news.livedoor.com/article/detail/5914880/</td>\n",
       "      <td>2011-10-05T19:11:00+0900</td>\n",
       "      <td>ユージの前に立ちはだかったJOY「僕はAKBの高橋みなみを守る」</td>\n",
       "      <td>5日、東京・千代田区の内幸町ホールにて、映画『キャプテン・アメリカ/ザ・ファースト・アベンジ...</td>\n",
       "      <td>movie-enter</td>\n",
       "    </tr>\n",
       "  </tbody>\n",
       "</table>\n",
       "</div>"
      ],
      "text/plain": [
       "                                                url                  datetime  \\\n",
       "0  http://news.livedoor.com/article/detail/5978741/  2011-10-30T10:15:00+0900   \n",
       "1  http://news.livedoor.com/article/detail/6322901/  2012-02-29T11:45:00+0900   \n",
       "2  http://news.livedoor.com/article/detail/6176324/  2012-01-09T14:00:00+0900   \n",
       "3  http://news.livedoor.com/article/detail/6573929/  2012-05-19T12:00:00+0900   \n",
       "4  http://news.livedoor.com/article/detail/5914880/  2011-10-05T19:11:00+0900   \n",
       "\n",
       "                                 title  \\\n",
       "0  【DVDエンター！】誘拐犯に育てられた女が目にした真実は、孤独か幸福か   \n",
       "1              藤原竜也、中学生とともにロケット打ち上げに成功   \n",
       "2    『戦火の馬』ロイヤル・プレミアにウィリアム王子＆キャサリン妃が出席   \n",
       "3     香里奈、女子高生100人のガチンコ質問に回答「ラーメンも食べる」   \n",
       "4     ユージの前に立ちはだかったJOY「僕はAKBの高橋みなみを守る」   \n",
       "\n",
       "                                                body        media  \n",
       "0  2005年11月から翌2006年7月まで読売新聞にて連載された、直木賞作家・角田光代による初...  movie-enter  \n",
       "1  「アンテナを張りながら生活をしていけばいい」\\n2月28日、映画『おかえり、はやぶさ』（3月...  movie-enter  \n",
       "2  3月2日より全国ロードショーとなる、スティーブン・スピルバーグの待望の監督最新作『戦火の馬』...  movie-enter  \n",
       "3  女優の香里奈が18日、都内で行われた映画『ガール』（5月26日公開）の女子高生限定試写会にサ...  movie-enter  \n",
       "4  5日、東京・千代田区の内幸町ホールにて、映画『キャプテン・アメリカ/ザ・ファースト・アベンジ...  movie-enter  "
      ]
     },
     "execution_count": 3,
     "metadata": {},
     "output_type": "execute_result"
    }
   ],
   "source": [
    "livedoor = pd.read_csv(\"../data/livedoornews.csv\")\n",
    "livedoor.head()"
   ]
  },
  {
   "cell_type": "markdown",
   "metadata": {},
   "source": [
    "形態素解析、LDAに入力するコーパスを作成します"
   ]
  },
  {
   "cell_type": "code",
   "execution_count": 4,
   "metadata": {},
   "outputs": [],
   "source": [
    "def parse(tweet_temp):\n",
    "    t = MeCab.Tagger()\n",
    "    temp1 = t.parse(tweet_temp)\n",
    "    temp2 = temp1.split(\"\\n\")\n",
    "    t_list = []\n",
    "    for keitaiso in temp2:\n",
    "        if keitaiso not in [\"EOS\",\"\"]:\n",
    "            word,hinshi = keitaiso.split(\"\\t\")\n",
    "            t_temp = [word]+hinshi.split(\",\")\n",
    "            if len(t_temp) != 10:\n",
    "                t_temp += [\"*\"]*(10 - len(t_temp))\n",
    "            t_list.append(t_temp)\n",
    "\n",
    "    return t_list\n",
    "\n",
    "def parse_to_df(tweet_temp):\n",
    "    return pd.DataFrame(parse(tweet_temp),\n",
    "                        columns=[\"単語\",\"品詞\",\"品詞細分類1\",\n",
    "                                 \"品詞細分類2\",\"品詞細分類3\",\n",
    "                                 \"活用型\",\"活用形\",\"原形\",\"読み\",\"発音\"])\n",
    "def make_lda_docs(texts):\n",
    "    docs = []\n",
    "    for text in texts:\n",
    "        df = parse_to_df(text)\n",
    "        extract_df = df[(df[\"品詞\"]+\"/\"+df[\"品詞細分類1\"]).isin([\"名詞/一般\",\"名詞/固有名詞\"])]\n",
    "        extract_df = extract_df[extract_df[\"原形\"]!=\"*\"]\n",
    "        doc = []\n",
    "        for genkei in extract_df[\"原形\"]:\n",
    "            doc.append(genkei)\n",
    "        docs.append(doc)\n",
    "    return docs"
   ]
  },
  {
   "cell_type": "code",
   "execution_count": 5,
   "metadata": {},
   "outputs": [],
   "source": [
    "texts = livedoor[\"body\"].values\n",
    "docs = make_lda_docs(texts)\n",
    "dictionary = gensim.corpora.Dictionary(docs)\n",
    "corpus = [dictionary.doc2bow(doc) for doc in docs]"
   ]
  },
  {
   "cell_type": "code",
   "execution_count": 6,
   "metadata": {},
   "outputs": [
    {
     "name": "stdout",
     "output_type": "stream",
     "text": [
      "テキスト：\n",
      "2005年11月から翌2006年7月まで読売新聞にて連載された、直木賞作家・角田光代による初の長編サスペンス『八日目の蝉』。2010年に檀れいと北乃きいの出演によりテレビドラマ化された同作が、2011年4月に永作博美と井上真央の出演によって映画化。そして、劇場公開から半年が過ぎた10月28日、DVD＆ブルーレイとなって発売されました。\n",
      "八日目の蝉\n",
      "妻子ある男と愛し合い、その子を身ごもりながら、あき\n",
      " \n",
      "LDAで読む単語：\n",
      "月,月,読売新聞,直木賞,作家,角田,光代,初,長編,サスペンス,蝉,檀,れい,北,きい,テレビ,ドラマ,作,月,永作,博美,井上,真央,映画,劇場,月,ブルー,レイ,蝉,妻子,男,子,女,男,妻,子供,赤ん坊,女,子,小豆島,母,娘,相手,子供,女,永作,博美,野々宮,和子,相手\n"
     ]
    }
   ],
   "source": [
    "print(\"テキスト：\")\n",
    "print(texts[0][:200])\n",
    "print(\" \")\n",
    "print(\"LDAで読む単語：\")\n",
    "print(\",\".join(docs[0][:50]))"
   ]
  },
  {
   "cell_type": "markdown",
   "metadata": {},
   "source": [
    "## トピックモデル"
   ]
  },
  {
   "cell_type": "markdown",
   "metadata": {},
   "source": [
    "実際にLDAを実行します"
   ]
  },
  {
   "cell_type": "code",
   "execution_count": 7,
   "metadata": {},
   "outputs": [],
   "source": [
    "n_cluster = 6\n",
    "lda = gensim.models.LdaModel(\n",
    "                corpus=corpus,\n",
    "                id2word=dictionary,\n",
    "                num_topics=n_cluster, \n",
    "                minimum_probability=0.001,\n",
    "                passes=20, \n",
    "                update_every=0, \n",
    "                chunksize=10000,\n",
    "                random_state=1\n",
    "                )"
   ]
  },
  {
   "cell_type": "code",
   "execution_count": 8,
   "metadata": {},
   "outputs": [],
   "source": [
    "corpus_lda = lda[corpus]\n",
    "arr = gensim.matutils.corpus2dense(\n",
    "        corpus_lda,\n",
    "        num_terms=n_cluster\n",
    "        ).T"
   ]
  },
  {
   "cell_type": "markdown",
   "metadata": {},
   "source": [
    "トピック-単語分布を可視化します。"
   ]
  },
  {
   "cell_type": "code",
   "execution_count": 9,
   "metadata": {},
   "outputs": [
    {
     "data": {
      "image/png": "[encoded data removed]",
      "text/plain": [
       "<Figure size 1440x720 with 6 Axes>"
      ]
     },
     "metadata": {
      "needs_background": "light"
     },
     "output_type": "display_data"
    }
   ],
   "source": [
    "lists = []\n",
    "for i in range(n_cluster):\n",
    "    temp_df = pd.DataFrame(lda.show_topic(i),columns=[\"word\",\"score\"])\n",
    "    temp_df[\"topic\"] = i\n",
    "    lists.append(temp_df)\n",
    "topic_word_df = pd.concat(lists,ignore_index=True)\n",
    "\n",
    "fig, axes = plt.subplots(nrows=2, ncols=3, figsize=(20, 10))\n",
    "for i,gdf in topic_word_df.groupby(\"topic\"):\n",
    "    gdf.set_index(\"word\")[\"score\"].sort_values().plot.barh(\n",
    "        ax=axes[i//3, i%3],\n",
    "        title=\"topic {} のトピック-単語分布\".format(i),\n",
    "        color=\"blue\")"
   ]
  },
  {
   "cell_type": "code",
   "execution_count": 10,
   "metadata": {},
   "outputs": [
    {
     "data": {
      "text/html": [
       "<div>\n",
       "<style scoped>\n",
       "    .dataframe tbody tr th:only-of-type {\n",
       "        vertical-align: middle;\n",
       "    }\n",
       "\n",
       "    .dataframe tbody tr th {\n",
       "        vertical-align: top;\n",
       "    }\n",
       "\n",
       "    .dataframe thead th {\n",
       "        text-align: right;\n",
       "    }\n",
       "</style>\n",
       "<table border=\"1\" class=\"dataframe\">\n",
       "  <thead>\n",
       "    <tr style=\"text-align: right;\">\n",
       "      <th>rank</th>\n",
       "      <th>1.0</th>\n",
       "      <th>2.0</th>\n",
       "      <th>3.0</th>\n",
       "      <th>4.0</th>\n",
       "      <th>5.0</th>\n",
       "      <th>6.0</th>\n",
       "      <th>7.0</th>\n",
       "      <th>8.0</th>\n",
       "      <th>9.0</th>\n",
       "      <th>10.0</th>\n",
       "    </tr>\n",
       "    <tr>\n",
       "      <th>topic</th>\n",
       "      <th></th>\n",
       "      <th></th>\n",
       "      <th></th>\n",
       "      <th></th>\n",
       "      <th></th>\n",
       "      <th></th>\n",
       "      <th></th>\n",
       "      <th></th>\n",
       "      <th></th>\n",
       "      <th></th>\n",
       "    </tr>\n",
       "  </thead>\n",
       "  <tbody>\n",
       "    <tr>\n",
       "      <th>0</th>\n",
       "      <td>声</td>\n",
       "      <td>ニュース</td>\n",
       "      <td>掲示板</td>\n",
       "      <td>人</td>\n",
       "      <td>話題</td>\n",
       "      <td>韓国</td>\n",
       "      <td>日本</td>\n",
       "      <td>記事</td>\n",
       "      <td>情報</td>\n",
       "      <td>ネット</td>\n",
       "    </tr>\n",
       "    <tr>\n",
       "      <th>1</th>\n",
       "      <td>女子</td>\n",
       "      <td>日本</td>\n",
       "      <td>プロ</td>\n",
       "      <td>イベント</td>\n",
       "      <td>野球</td>\n",
       "      <td>人</td>\n",
       "      <td>人気</td>\n",
       "      <td>ゴルフ</td>\n",
       "      <td>東京</td>\n",
       "      <td>月</td>\n",
       "    </tr>\n",
       "    <tr>\n",
       "      <th>2</th>\n",
       "      <td>五輪</td>\n",
       "      <td>自分</td>\n",
       "      <td>女性</td>\n",
       "      <td>人</td>\n",
       "      <td>女子</td>\n",
       "      <td>サッカー</td>\n",
       "      <td>月</td>\n",
       "      <td>選手</td>\n",
       "      <td>肌</td>\n",
       "      <td>日本</td>\n",
       "    </tr>\n",
       "    <tr>\n",
       "      <th>3</th>\n",
       "      <td>ソフトウェア</td>\n",
       "      <td>端末</td>\n",
       "      <td>製品</td>\n",
       "      <td>モデル</td>\n",
       "      <td>ドコモ</td>\n",
       "      <td>記事</td>\n",
       "      <td>画面</td>\n",
       "      <td>月</td>\n",
       "      <td>スマート</td>\n",
       "      <td>フォン</td>\n",
       "    </tr>\n",
       "    <tr>\n",
       "      <th>4</th>\n",
       "      <td>シーン</td>\n",
       "      <td>話題</td>\n",
       "      <td>ドラマ</td>\n",
       "      <td>映像</td>\n",
       "      <td>日本</td>\n",
       "      <td>世界</td>\n",
       "      <td>本</td>\n",
       "      <td>作品</td>\n",
       "      <td>月</td>\n",
       "      <td>映画</td>\n",
       "    </tr>\n",
       "    <tr>\n",
       "      <th>5</th>\n",
       "      <td>気</td>\n",
       "      <td>独</td>\n",
       "      <td>写真</td>\n",
       "      <td>男</td>\n",
       "      <td>相手</td>\n",
       "      <td>男性</td>\n",
       "      <td>女</td>\n",
       "      <td>自分</td>\n",
       "      <td>女性</td>\n",
       "      <td>人</td>\n",
       "    </tr>\n",
       "  </tbody>\n",
       "</table>\n",
       "</div>"
      ],
      "text/plain": [
       "rank     1.0   2.0  3.0   4.0  5.0   6.0  7.0  8.0   9.0  10.0\n",
       "topic                                                         \n",
       "0           声  ニュース  掲示板     人   話題    韓国   日本   記事    情報  ネット\n",
       "1          女子    日本   プロ  イベント   野球     人   人気  ゴルフ    東京    月\n",
       "2          五輪    自分   女性     人   女子  サッカー    月   選手     肌   日本\n",
       "3      ソフトウェア    端末   製品   モデル  ドコモ    記事   画面    月  スマート  フォン\n",
       "4         シーン    話題  ドラマ    映像   日本    世界    本   作品     月   映画\n",
       "5           気     独   写真     男   相手    男性    女   自分    女性    人"
      ]
     },
     "execution_count": 10,
     "metadata": {},
     "output_type": "execute_result"
    }
   ],
   "source": [
    "topic_word_df[\"rank\"] = topic_word_df.groupby(\"topic\")[\"score\"].rank()\n",
    "topic_word_df.pivot(index='topic', columns='rank', values='word')"
   ]
  },
  {
   "cell_type": "code",
   "execution_count": 11,
   "metadata": {},
   "outputs": [
    {
     "data": {
      "image/png": "[encoded data removed]",
      "text/plain": [
       "<Figure size 720x576 with 1 Axes>"
      ]
     },
     "metadata": {
      "needs_background": "light"
     },
     "output_type": "display_data"
    }
   ],
   "source": [
    "livedoor_predict = livedoor.copy()\n",
    "# topicの付与\n",
    "livedoor_predict[\"pred_topic\"] = np.argmax(arr,axis=1)\n",
    "livedoor_predict[\"score\"] = np.max(arr,axis=1)\n",
    "cross = pd.crosstab(livedoor_predict[\"media\"],livedoor_predict[\"pred_topic\"])\n",
    "# トピックの文書割合の可視化\n",
    "fig, ax = plt.subplots(figsize=(10, 8))\n",
    "for i in range(len(cross)):\n",
    "    ax.barh(y=cross.columns, width = cross.iloc[i].values[::-1], left=cross.iloc[:i].sum()[::-1].values,tick_label=cross.columns[::-1])\n",
    "ax.set(xlabel='個数', ylabel='トピック')\n",
    "ax.legend(cross.index)\n",
    "plt.show()"
   ]
  },
  {
   "cell_type": "markdown",
   "metadata": {},
   "source": [
    "## LDAの結果を保存"
   ]
  },
  {
   "cell_type": "code",
   "execution_count": 12,
   "metadata": {},
   "outputs": [],
   "source": [
    "import pyLDAvis\n",
    "import pyLDAvis.gensim\n",
    "pyLDAvis.enable_notebook()\n",
    "\n",
    "vis = pyLDAvis.gensim.prepare(lda, corpus, dictionary, sort_topics=False)\n",
    "#vis"
   ]
  },
  {
   "cell_type": "code",
   "execution_count": 13,
   "metadata": {},
   "outputs": [
    {
     "name": "stderr",
     "output_type": "stream",
     "text": [
      "/Users/sekineshingo/opt/anaconda3/envs/py37/lib/python3.7/site-packages/ipykernel/ipkernel.py:287: DeprecationWarning: `should_run_async` will not call `transform_cell` automatically in the future. Please pass the result to `transformed_cell` argument and any exception that happen during thetransform in `preprocessing_exc_tuple` in IPython 7.17 and above.\n",
      "  and should_run_async(code)\n"
     ]
    }
   ],
   "source": [
    "pyLDAvis.save_html(vis, '../data/pyldavis_output.html')"
   ]
  },
  {
   "cell_type": "code",
   "execution_count": null,
   "metadata": {},
   "outputs": [],
   "source": []
  }
 ],
 "metadata": {
  "kernelspec": {
   "display_name": "Python 3",
   "language": "python",
   "name": "python3"
  },
  "language_info": {
   "codemirror_mode": {
    "name": "ipython",
    "version": 3
   },
   "file_extension": ".py",
   "mimetype": "text/x-python",
   "name": "python",
   "nbconvert_exporter": "python",
   "pygments_lexer": "ipython3",
   "version": "3.7.9"
  },
  "toc": {
   "base_numbering": 1,
   "nav_menu": {},
   "number_sections": true,
   "sideBar": true,
   "skip_h1_title": false,
   "title_cell": "Table of Contents",
   "title_sidebar": "Contents",
   "toc_cell": false,
   "toc_position": {},
   "toc_section_display": true,
   "toc_window_display": false
  }
 },
 "nbformat": 4,
 "nbformat_minor": 4
}
