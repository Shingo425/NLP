{
 "cells": [
  {
   "cell_type": "markdown",
   "metadata": {},
   "source": [
    "Webサービス by Yahoo! JAPAN  https://developer.yahoo.co.jp/about"
   ]
  },
  {
   "cell_type": "code",
   "execution_count": 1,
   "metadata": {
    "executionInfo": {
     "elapsed": 1948,
     "status": "ok",
     "timestamp": 1606406035196,
     "user": {
      "displayName": "関根伸吾",
      "photoUrl": "https://lh3.googleusercontent.com/a-/AOh14GjpYdMlOXrjshpBRBMfWllc9PGHTqUwIFZ5jh1R=s64",
      "userId": "17195040711751072649"
     },
     "user_tz": -540
    },
    "id": "HFTikEp7Ozmx"
   },
   "outputs": [],
   "source": [
    "import os\n",
    "import pandas as pd\n",
    "import numpy as np\n",
    "import urllib.request\n",
    "import json\n",
    "from tqdm.notebook import tqdm\n",
    "import requests\n",
    "from bs4 import BeautifulSoup\n",
    "import time\n",
    "from tqdm import tqdm\n",
    "import geocoder"
   ]
  },
  {
   "cell_type": "code",
   "execution_count": 2,
   "metadata": {
    "colab": {
     "base_uri": "https://localhost:8080/",
     "height": 35
    },
    "executionInfo": {
     "elapsed": 1882,
     "status": "ok",
     "timestamp": 1590726316104,
     "user": {
      "displayName": "関根伸吾",
      "photoUrl": "https://lh3.googleusercontent.com/a-/AOh14GjpYdMlOXrjshpBRBMfWllc9PGHTqUwIFZ5jh1R=s64",
      "userId": "17195040711751072649"
     },
     "user_tz": -540
    },
    "id": "5oTnCp0vO7WT",
    "outputId": "2a20822e-f283-4263-ae12-7b36319bb417"
   },
   "outputs": [
    {
     "name": "stdout",
     "output_type": "stream",
     "text": [
      "35.6802071 139.7699003\n"
     ]
    }
   ],
   "source": [
    "# keyを入力\n",
    "key=\"<your key>\"\n",
    "# 取得回数 loop_count*100　取りに行きます。　無料枠は制限があるので注意。\n",
    "loop_count=5\n",
    "# 場所\n",
    "location = '東京駅'\n",
    "file_name_pre=\"tokyo\"\n",
    "# 指定の緯度経度から何キロ離れたところまで検索するか。\n",
    "dist=200\n",
    "\n",
    "loc = geocoder.osm(location, timeout=5.0)\n",
    "ido,keido= loc.latlng\n",
    "print(ido,keido)\n"
   ]
  },
  {
   "cell_type": "markdown",
   "metadata": {},
   "source": [
    "店名を取りに行きます"
   ]
  },
  {
   "cell_type": "code",
   "execution_count": 3,
   "metadata": {
    "id": "ekzt07-4QMP-"
   },
   "outputs": [],
   "source": [
    "url_shop_search=r\"https://map.yahooapis.jp/search/local/V1/localSearch?appid={}&lat={}&lon={}&dist={}&output=json&sort=-review&results={}&start={}\"\n",
    "place_results=[]\n",
    "for num in range(loop_count):\n",
    "    req = urllib.request.Request(url_shop_search.format(key,ido,keido,dist,100,num*100))\n",
    "    with urllib.request.urlopen(req) as res:\n",
    "        body = res.read()\n",
    "    place_results+=json.loads(body)[\"Feature\"]"
   ]
  },
  {
   "cell_type": "markdown",
   "metadata": {},
   "source": [
    "データを整形します"
   ]
  },
  {
   "cell_type": "code",
   "execution_count": 4,
   "metadata": {
    "colab": {
     "base_uri": "https://localhost:8080/",
     "height": 35
    },
    "executionInfo": {
     "elapsed": 70425,
     "status": "ok",
     "timestamp": 1590726402467,
     "user": {
      "displayName": "関根伸吾",
      "photoUrl": "https://lh3.googleusercontent.com/a-/AOh14GjpYdMlOXrjshpBRBMfWllc9PGHTqUwIFZ5jh1R=s64",
      "userId": "17195040711751072649"
     },
     "user_tz": -540
    },
    "id": "y3b0MozkyFZg",
    "outputId": "20eaf9ea-2b03-4fea-ffe1-e5230a46d20c"
   },
   "outputs": [
    {
     "name": "stdout",
     "output_type": "stream",
     "text": [
      "433\n"
     ]
    }
   ],
   "source": [
    "columns=[         \n",
    "         'Category',\n",
    "         'Description',\n",
    "         'Name',\n",
    "         'Uid'\n",
    "]\n",
    "lists=[]\n",
    "for r in place_results:\n",
    "    lists.append([\",\".join(r['Category']),r['Description'],r['Name'],r[\"Property\"][\"Uid\"]])\n",
    "place_df=pd.DataFrame(lists,columns=columns).drop_duplicates(\"Name\",keep=\"first\")\n",
    "print(len(place_df))"
   ]
  },
  {
   "cell_type": "markdown",
   "metadata": {},
   "source": [
    "データを出力します"
   ]
  },
  {
   "cell_type": "code",
   "execution_count": 6,
   "metadata": {
    "id": "ZeC_DZuZAqau"
   },
   "outputs": [],
   "source": [
    "place_df.to_csv(\"../data/place_df_yahoo_{}.csv\".format(file_name_pre))"
   ]
  },
  {
   "cell_type": "markdown",
   "metadata": {},
   "source": [
    "店ごとにレビューを取りに行きます"
   ]
  },
  {
   "cell_type": "code",
   "execution_count": 7,
   "metadata": {
    "colab": {
     "base_uri": "https://localhost:8080/",
     "height": 120,
     "referenced_widgets": [
      "36a31823375f4f1282dfae486204c32d",
      "e7acf4cdb1cc43a9a6c211af8ecc4e8a",
      "2fc7bd77a4a942ea85a51e73de7e2f56",
      "38645e628e28441f9e9faba76adea63f",
      "8232460db7ff45fabc785ddda78bf28a",
      "9cd437dbdcb34c9b98206da7181426a7",
      "f3a69f1b44b2458fb29184b6712b7611",
      "c93fe451341443379de1522e11cb8bf0"
     ]
    },
    "executionInfo": {
     "elapsed": 3302427,
     "status": "ok",
     "timestamp": 1590729638781,
     "user": {
      "displayName": "関根伸吾",
      "photoUrl": "https://lh3.googleusercontent.com/a-/AOh14GjpYdMlOXrjshpBRBMfWllc9PGHTqUwIFZ5jh1R=s64",
      "userId": "17195040711751072649"
     },
     "user_tz": -540
    },
    "id": "vQDR3RyCTDIx",
    "outputId": "45a40beb-8c87-4f95-b6c9-b29f3a772925"
   },
   "outputs": [
    {
     "name": "stderr",
     "output_type": "stream",
     "text": [
      "100%|██████████| 433/433 [01:56<00:00,  3.72it/s]\n"
     ]
    }
   ],
   "source": [
    "shop_id=place_df[[\"Uid\",\"Name\"]].values\n",
    "url_review=\"http://api.olp.yahooapis.jp/v1/review/{}?appid={}&output=json\"\n",
    "review_results=[]\n",
    "for uid,name in tqdm(shop_id):\n",
    "    try:\n",
    "        req = urllib.request.Request(url_review.format(uid,key))\n",
    "        with urllib.request.urlopen(req) as res:\n",
    "            body = res.read()\n",
    "        review_result=json.loads(body)\n",
    "        review_result[\"Uid\"]=uid\n",
    "        review_result[\"Name\"]=name\n",
    "        review_results.append(review_result)\n",
    "    except:\n",
    "        print(\"error:\",uid,name)  "
   ]
  },
  {
   "cell_type": "markdown",
   "metadata": {},
   "source": [
    "データを整形します。"
   ]
  },
  {
   "cell_type": "code",
   "execution_count": 8,
   "metadata": {
    "id": "kljzn-H5zWf0"
   },
   "outputs": [],
   "source": [
    "columns=[\n",
    "                 \"Id\",\n",
    "                 \"Body\",\n",
    "                 \"Subject\",\n",
    "                 \"Guid\",\n",
    "                 \"Author\",\n",
    "                 \"Rating\",\n",
    "                 \"VisitDate\",\n",
    "                 \"Scene\",\n",
    "                 \"UsefulCount\",\n",
    "                 \"LinkUrl\"\n",
    "]\n",
    "review_lists=[]\n",
    "\n",
    "for r1 in review_results:    \n",
    "    if r1[\"Feature\"]:\n",
    "        lists=[]\n",
    "        for r2 in r1[\"Feature\"]:\n",
    "            lists_temp=[]\n",
    "            r3=r2[\"Property\"]\n",
    "            for c in columns:\n",
    "                if r3[\"Comment\"][c]:\n",
    "                    lists_temp.append(r3[\"Comment\"][c])\n",
    "                else:\n",
    "                    lists_temp.append(np.nan)\n",
    "            lists_temp.append(r3[\"CreateDate\"])\n",
    "            lists_temp.append(r3[\"UpdateDate\"])\n",
    "        lists.append(lists_temp)\n",
    "        df_temp=pd.DataFrame(lists,columns=columns+[\"CreateDate\",\"UpdateDate\"])\n",
    "        df_temp[\"Uid\"]=r1[\"Uid\"]\n",
    "        df_temp[\"Name\"]=r1[\"Name\"]\n",
    "        df_temp=df_temp[[\"Uid\",\"Name\"]+columns+[\"CreateDate\",\"UpdateDate\"]]\n",
    "        review_lists.append(df_temp)\n",
    "\n",
    "review_df=pd.concat(review_lists,ignore_index=True)\n"
   ]
  },
  {
   "cell_type": "code",
   "execution_count": 9,
   "metadata": {
    "colab": {
     "base_uri": "https://localhost:8080/",
     "height": 1000
    },
    "executionInfo": {
     "elapsed": 3314047,
     "status": "ok",
     "timestamp": 1590729651752,
     "user": {
      "displayName": "関根伸吾",
      "photoUrl": "https://lh3.googleusercontent.com/a-/AOh14GjpYdMlOXrjshpBRBMfWllc9PGHTqUwIFZ5jh1R=s64",
      "userId": "17195040711751072649"
     },
     "user_tz": -540
    },
    "id": "k7tm5Pe9kHE_",
    "outputId": "fbdc5b32-4e1c-495d-c20e-694fd6a1758d"
   },
   "outputs": [
    {
     "data": {
      "text/html": [
       "<div>\n",
       "<style scoped>\n",
       "    .dataframe tbody tr th:only-of-type {\n",
       "        vertical-align: middle;\n",
       "    }\n",
       "\n",
       "    .dataframe tbody tr th {\n",
       "        vertical-align: top;\n",
       "    }\n",
       "\n",
       "    .dataframe thead th {\n",
       "        text-align: right;\n",
       "    }\n",
       "</style>\n",
       "<table border=\"1\" class=\"dataframe\">\n",
       "  <thead>\n",
       "    <tr style=\"text-align: right;\">\n",
       "      <th></th>\n",
       "      <th>Uid</th>\n",
       "      <th>Name</th>\n",
       "      <th>Id</th>\n",
       "      <th>Body</th>\n",
       "      <th>Subject</th>\n",
       "      <th>Guid</th>\n",
       "      <th>Author</th>\n",
       "      <th>Rating</th>\n",
       "      <th>VisitDate</th>\n",
       "      <th>Scene</th>\n",
       "      <th>UsefulCount</th>\n",
       "      <th>LinkUrl</th>\n",
       "      <th>CreateDate</th>\n",
       "      <th>UpdateDate</th>\n",
       "    </tr>\n",
       "  </thead>\n",
       "  <tbody>\n",
       "    <tr>\n",
       "      <th>0</th>\n",
       "      <td>03b5ffb0e26db0f405da03edde8b47542ede27d6</td>\n",
       "      <td>浅草寺</td>\n",
       "      <td>f30c52e8131654d568ecc8be77e9b84d41e32b57</td>\n",
       "      <td>東京にきたら絶対によります♪&lt;br /&gt;日中の賑わっている時もいいですが、早朝や雨が降ってい...</td>\n",
       "      <td>東京きたら絶対よります♪</td>\n",
       "      <td>AI3755HMEQFF3EASJ3LGV7E57A</td>\n",
       "      <td>ゆう</td>\n",
       "      <td>3.0</td>\n",
       "      <td>NaN</td>\n",
       "      <td>NaN</td>\n",
       "      <td>NaN</td>\n",
       "      <td>NaN</td>\n",
       "      <td>2008-07-16T15:22:41+09:00</td>\n",
       "      <td>2015-02-20T05:08:04+09:00</td>\n",
       "    </tr>\n",
       "    <tr>\n",
       "      <th>1</th>\n",
       "      <td>d8160ecdbf9163a8100c643838d956e9780e64b9</td>\n",
       "      <td>レゴランド・ディスカバリー・センター東京</td>\n",
       "      <td>dd479a6937ecf4da36183e00b30beacd3443850d</td>\n",
       "      <td>平日子供の学校が創立記念日だったり、振り替え休日だったので、行ってきました。\\n事前予約をす...</td>\n",
       "      <td>子供の頃の夢があります</td>\n",
       "      <td>3NYGP5OMBJJAMQM22JFKNSWHDE</td>\n",
       "      <td>えもえもん</td>\n",
       "      <td>4.0</td>\n",
       "      <td>2013-02-01T00:00:00+09:00</td>\n",
       "      <td>3.0</td>\n",
       "      <td>1.0</td>\n",
       "      <td>NaN</td>\n",
       "      <td>2013-02-17T21:35:28+09:00</td>\n",
       "      <td>2015-02-20T00:29:32+09:00</td>\n",
       "    </tr>\n",
       "    <tr>\n",
       "      <th>2</th>\n",
       "      <td>2e995a38cf30d8b72839edb8d44e47b9b710d091</td>\n",
       "      <td>株式会社東京タワー</td>\n",
       "      <td>f2aad12f72fad0dcbeebb7e361ed042b882a0ec5</td>\n",
       "      <td>夜景とかやばいですからね?&lt;br /&gt;&lt;br /&gt;東京中がギラギラギラギラに光ってて～～～～...</td>\n",
       "      <td>夜景が☆</td>\n",
       "      <td>TXIATK2EHPLZIZHDAA4YFNDYJU</td>\n",
       "      <td>ありおかゆうり</td>\n",
       "      <td>3.0</td>\n",
       "      <td>NaN</td>\n",
       "      <td>NaN</td>\n",
       "      <td>NaN</td>\n",
       "      <td>NaN</td>\n",
       "      <td>2010-03-08T19:44:13+09:00</td>\n",
       "      <td>2015-02-19T14:17:05+09:00</td>\n",
       "    </tr>\n",
       "    <tr>\n",
       "      <th>3</th>\n",
       "      <td>f336e3170f0a3b88ce04002f7d4c842a6d6fabbb</td>\n",
       "      <td>日本空港ビルデング株式会社羽田空港国内線総合案内</td>\n",
       "      <td>5710cd6155e3a3ab176238ea61990e3f2ede3322</td>\n",
       "      <td>夜景という観点で口コミさせて頂きます。\\n\\n５年ほど前から、夏場の夜に何回か展望デッキから...</td>\n",
       "      <td>展望デッキからの夜景がキレイ</td>\n",
       "      <td>F7W27HVEY6TW5Z2TIDS3RGTWJU</td>\n",
       "      <td>謎のα</td>\n",
       "      <td>4.0</td>\n",
       "      <td>2010-10-01T00:00:00+09:00</td>\n",
       "      <td>NaN</td>\n",
       "      <td>NaN</td>\n",
       "      <td>NaN</td>\n",
       "      <td>2011-06-29T14:32:11+09:00</td>\n",
       "      <td>2015-02-20T08:24:54+09:00</td>\n",
       "    </tr>\n",
       "    <tr>\n",
       "      <th>4</th>\n",
       "      <td>a1e3ba8a089aa1ccc76e950db63e62c55eb530db</td>\n",
       "      <td>横浜中華街発展会協同組合</td>\n",
       "      <td>93f5b5ea9e1463264cbb288bd920bbaefe8e6df8</td>\n",
       "      <td>とても、たのしい一日を過ごせました。\\nまた機会があれば行きたいなと思います。</td>\n",
       "      <td>たのしい！</td>\n",
       "      <td>6RYIVJMKIKV5TMYPSJ2RKH6RLM</td>\n",
       "      <td>☆流夜☆</td>\n",
       "      <td>3.0</td>\n",
       "      <td>NaN</td>\n",
       "      <td>NaN</td>\n",
       "      <td>NaN</td>\n",
       "      <td>NaN</td>\n",
       "      <td>2012-07-18T15:24:22+09:00</td>\n",
       "      <td>2015-02-20T02:18:03+09:00</td>\n",
       "    </tr>\n",
       "    <tr>\n",
       "      <th>...</th>\n",
       "      <td>...</td>\n",
       "      <td>...</td>\n",
       "      <td>...</td>\n",
       "      <td>...</td>\n",
       "      <td>...</td>\n",
       "      <td>...</td>\n",
       "      <td>...</td>\n",
       "      <td>...</td>\n",
       "      <td>...</td>\n",
       "      <td>...</td>\n",
       "      <td>...</td>\n",
       "      <td>...</td>\n",
       "      <td>...</td>\n",
       "      <td>...</td>\n",
       "    </tr>\n",
       "    <tr>\n",
       "      <th>310</th>\n",
       "      <td>7b82d1227a48408fab3ffa5db27a9926ccc9d16c</td>\n",
       "      <td>株式会社横浜国際平和会議場　総合案内</td>\n",
       "      <td>f53e4281d5c45827e8577453cda2c65f5fee351a</td>\n",
       "      <td>アイテムが30%オフ～となるディスカウントマーケット、「GO!GO!カートくん」のキャラクタ...</td>\n",
       "      <td>ミキハウスランドin 横浜</td>\n",
       "      <td>LQDEBYALKQCWLJHXEYDKJMLU64</td>\n",
       "      <td>pac*fic*yok*h*masta*f</td>\n",
       "      <td>3.0</td>\n",
       "      <td>NaN</td>\n",
       "      <td>NaN</td>\n",
       "      <td>NaN</td>\n",
       "      <td>NaN</td>\n",
       "      <td>2008-03-26T09:27:12+09:00</td>\n",
       "      <td>2015-02-20T08:21:32+09:00</td>\n",
       "    </tr>\n",
       "    <tr>\n",
       "      <th>311</th>\n",
       "      <td>1d33cbdb69612db1aed9b90eb077996283241e4d</td>\n",
       "      <td>国家公務員共済組合連合会　東京共済会館</td>\n",
       "      <td>cea599780e92512f3be4d88ab444ef92a80e05b1</td>\n",
       "      <td>駐車場は完備されていますか</td>\n",
       "      <td>駐車場はありますか</td>\n",
       "      <td>F3S3P5DUH37PSF4HBMIIIIDJMY</td>\n",
       "      <td>hm3**jpjp</td>\n",
       "      <td>3.0</td>\n",
       "      <td>NaN</td>\n",
       "      <td>NaN</td>\n",
       "      <td>16.0</td>\n",
       "      <td>NaN</td>\n",
       "      <td>2008-09-29T22:15:48+09:00</td>\n",
       "      <td>2015-02-19T21:14:30+09:00</td>\n",
       "    </tr>\n",
       "    <tr>\n",
       "      <th>312</th>\n",
       "      <td>a939d3b37ba7a04ee8555e1c041f3a540e9b51f3</td>\n",
       "      <td>国家公務員共済組合連合会ＫＫＲホテル東京</td>\n",
       "      <td>cea599780e92512f3be4d88ab444ef92a80e05b1</td>\n",
       "      <td>駐車場は完備されていますか</td>\n",
       "      <td>駐車場はありますか</td>\n",
       "      <td>F3S3P5DUH37PSF4HBMIIIIDJMY</td>\n",
       "      <td>hm3**jpjp</td>\n",
       "      <td>3.0</td>\n",
       "      <td>NaN</td>\n",
       "      <td>NaN</td>\n",
       "      <td>16.0</td>\n",
       "      <td>NaN</td>\n",
       "      <td>2008-09-29T22:15:48+09:00</td>\n",
       "      <td>2015-02-19T21:14:30+09:00</td>\n",
       "    </tr>\n",
       "    <tr>\n",
       "      <th>313</th>\n",
       "      <td>b57feb04cac8b7d9dd4f5eb60757a8e691f52d27</td>\n",
       "      <td>ＫＫＲホテル東京</td>\n",
       "      <td>cea599780e92512f3be4d88ab444ef92a80e05b1</td>\n",
       "      <td>駐車場は完備されていますか</td>\n",
       "      <td>駐車場はありますか</td>\n",
       "      <td>F3S3P5DUH37PSF4HBMIIIIDJMY</td>\n",
       "      <td>hm3**jpjp</td>\n",
       "      <td>3.0</td>\n",
       "      <td>NaN</td>\n",
       "      <td>NaN</td>\n",
       "      <td>16.0</td>\n",
       "      <td>NaN</td>\n",
       "      <td>2008-09-29T22:15:48+09:00</td>\n",
       "      <td>2015-02-19T21:14:30+09:00</td>\n",
       "    </tr>\n",
       "    <tr>\n",
       "      <th>314</th>\n",
       "      <td>41fd863deb77c0544ff35fde1bf7753e6fb20df5</td>\n",
       "      <td>東京とんこつラーメン 屯ちん 池袋本店</td>\n",
       "      <td>203977ffbaac5ed431daf1792c218919040c4a62</td>\n",
       "      <td>席につく前にキャンセルしたのにラーメン代とられた。すごい自信</td>\n",
       "      <td>待たせるのは当たり前</td>\n",
       "      <td>27GCHTOE2P7OIREWPNOROLM754</td>\n",
       "      <td>かれーずき</td>\n",
       "      <td>3.0</td>\n",
       "      <td>NaN</td>\n",
       "      <td>1.0</td>\n",
       "      <td>NaN</td>\n",
       "      <td>NaN</td>\n",
       "      <td>2012-06-08T23:17:24+09:00</td>\n",
       "      <td>2015-02-19T20:54:56+09:00</td>\n",
       "    </tr>\n",
       "  </tbody>\n",
       "</table>\n",
       "<p>315 rows × 14 columns</p>\n",
       "</div>"
      ],
      "text/plain": [
       "                                          Uid                      Name  \\\n",
       "0    03b5ffb0e26db0f405da03edde8b47542ede27d6                       浅草寺   \n",
       "1    d8160ecdbf9163a8100c643838d956e9780e64b9      レゴランド・ディスカバリー・センター東京   \n",
       "2    2e995a38cf30d8b72839edb8d44e47b9b710d091                 株式会社東京タワー   \n",
       "3    f336e3170f0a3b88ce04002f7d4c842a6d6fabbb  日本空港ビルデング株式会社羽田空港国内線総合案内   \n",
       "4    a1e3ba8a089aa1ccc76e950db63e62c55eb530db              横浜中華街発展会協同組合   \n",
       "..                                        ...                       ...   \n",
       "310  7b82d1227a48408fab3ffa5db27a9926ccc9d16c        株式会社横浜国際平和会議場　総合案内   \n",
       "311  1d33cbdb69612db1aed9b90eb077996283241e4d       国家公務員共済組合連合会　東京共済会館   \n",
       "312  a939d3b37ba7a04ee8555e1c041f3a540e9b51f3      国家公務員共済組合連合会ＫＫＲホテル東京   \n",
       "313  b57feb04cac8b7d9dd4f5eb60757a8e691f52d27                  ＫＫＲホテル東京   \n",
       "314  41fd863deb77c0544ff35fde1bf7753e6fb20df5       東京とんこつラーメン 屯ちん 池袋本店   \n",
       "\n",
       "                                           Id  \\\n",
       "0    f30c52e8131654d568ecc8be77e9b84d41e32b57   \n",
       "1    dd479a6937ecf4da36183e00b30beacd3443850d   \n",
       "2    f2aad12f72fad0dcbeebb7e361ed042b882a0ec5   \n",
       "3    5710cd6155e3a3ab176238ea61990e3f2ede3322   \n",
       "4    93f5b5ea9e1463264cbb288bd920bbaefe8e6df8   \n",
       "..                                        ...   \n",
       "310  f53e4281d5c45827e8577453cda2c65f5fee351a   \n",
       "311  cea599780e92512f3be4d88ab444ef92a80e05b1   \n",
       "312  cea599780e92512f3be4d88ab444ef92a80e05b1   \n",
       "313  cea599780e92512f3be4d88ab444ef92a80e05b1   \n",
       "314  203977ffbaac5ed431daf1792c218919040c4a62   \n",
       "\n",
       "                                                  Body         Subject  \\\n",
       "0    東京にきたら絶対によります♪<br />日中の賑わっている時もいいですが、早朝や雨が降ってい...    東京きたら絶対よります♪   \n",
       "1    平日子供の学校が創立記念日だったり、振り替え休日だったので、行ってきました。\\n事前予約をす...     子供の頃の夢があります   \n",
       "2    夜景とかやばいですからね?<br /><br />東京中がギラギラギラギラに光ってて～～～～...            夜景が☆   \n",
       "3    夜景という観点で口コミさせて頂きます。\\n\\n５年ほど前から、夏場の夜に何回か展望デッキから...  展望デッキからの夜景がキレイ   \n",
       "4              とても、たのしい一日を過ごせました。\\nまた機会があれば行きたいなと思います。           たのしい！   \n",
       "..                                                 ...             ...   \n",
       "310  アイテムが30%オフ～となるディスカウントマーケット、「GO!GO!カートくん」のキャラクタ...   ミキハウスランドin 横浜   \n",
       "311                                      駐車場は完備されていますか       駐車場はありますか   \n",
       "312                                      駐車場は完備されていますか       駐車場はありますか   \n",
       "313                                      駐車場は完備されていますか       駐車場はありますか   \n",
       "314                     席につく前にキャンセルしたのにラーメン代とられた。すごい自信      待たせるのは当たり前   \n",
       "\n",
       "                           Guid                 Author  Rating  \\\n",
       "0    AI3755HMEQFF3EASJ3LGV7E57A                     ゆう     3.0   \n",
       "1    3NYGP5OMBJJAMQM22JFKNSWHDE                  えもえもん     4.0   \n",
       "2    TXIATK2EHPLZIZHDAA4YFNDYJU                ありおかゆうり     3.0   \n",
       "3    F7W27HVEY6TW5Z2TIDS3RGTWJU                    謎のα     4.0   \n",
       "4    6RYIVJMKIKV5TMYPSJ2RKH6RLM                   ☆流夜☆     3.0   \n",
       "..                          ...                    ...     ...   \n",
       "310  LQDEBYALKQCWLJHXEYDKJMLU64  pac*fic*yok*h*masta*f     3.0   \n",
       "311  F3S3P5DUH37PSF4HBMIIIIDJMY              hm3**jpjp     3.0   \n",
       "312  F3S3P5DUH37PSF4HBMIIIIDJMY              hm3**jpjp     3.0   \n",
       "313  F3S3P5DUH37PSF4HBMIIIIDJMY              hm3**jpjp     3.0   \n",
       "314  27GCHTOE2P7OIREWPNOROLM754                  かれーずき     3.0   \n",
       "\n",
       "                     VisitDate  Scene  UsefulCount  LinkUrl  \\\n",
       "0                          NaN    NaN          NaN      NaN   \n",
       "1    2013-02-01T00:00:00+09:00    3.0          1.0      NaN   \n",
       "2                          NaN    NaN          NaN      NaN   \n",
       "3    2010-10-01T00:00:00+09:00    NaN          NaN      NaN   \n",
       "4                          NaN    NaN          NaN      NaN   \n",
       "..                         ...    ...          ...      ...   \n",
       "310                        NaN    NaN          NaN      NaN   \n",
       "311                        NaN    NaN         16.0      NaN   \n",
       "312                        NaN    NaN         16.0      NaN   \n",
       "313                        NaN    NaN         16.0      NaN   \n",
       "314                        NaN    1.0          NaN      NaN   \n",
       "\n",
       "                    CreateDate                 UpdateDate  \n",
       "0    2008-07-16T15:22:41+09:00  2015-02-20T05:08:04+09:00  \n",
       "1    2013-02-17T21:35:28+09:00  2015-02-20T00:29:32+09:00  \n",
       "2    2010-03-08T19:44:13+09:00  2015-02-19T14:17:05+09:00  \n",
       "3    2011-06-29T14:32:11+09:00  2015-02-20T08:24:54+09:00  \n",
       "4    2012-07-18T15:24:22+09:00  2015-02-20T02:18:03+09:00  \n",
       "..                         ...                        ...  \n",
       "310  2008-03-26T09:27:12+09:00  2015-02-20T08:21:32+09:00  \n",
       "311  2008-09-29T22:15:48+09:00  2015-02-19T21:14:30+09:00  \n",
       "312  2008-09-29T22:15:48+09:00  2015-02-19T21:14:30+09:00  \n",
       "313  2008-09-29T22:15:48+09:00  2015-02-19T21:14:30+09:00  \n",
       "314  2012-06-08T23:17:24+09:00  2015-02-19T20:54:56+09:00  \n",
       "\n",
       "[315 rows x 14 columns]"
      ]
     },
     "execution_count": 9,
     "metadata": {},
     "output_type": "execute_result"
    }
   ],
   "source": [
    "review_df"
   ]
  },
  {
   "cell_type": "code",
   "execution_count": 11,
   "metadata": {
    "id": "a2ltJkG2TP8u"
   },
   "outputs": [],
   "source": [
    "review_df.to_csv(\"../data/review_df_yahoo_{}.csv\".format(file_name_pre))"
   ]
  },
  {
   "cell_type": "code",
   "execution_count": null,
   "metadata": {
    "id": "ezfGQrcd5rGI"
   },
   "outputs": [],
   "source": []
  }
 ],
 "metadata": {
  "colab": {
   "collapsed_sections": [],
   "name": "yahoo_loco.ipynb",
   "provenance": []
  },
  "kernelspec": {
   "display_name": "Python 3",
   "language": "python",
   "name": "python3"
  },
  "language_info": {
   "codemirror_mode": {
    "name": "ipython",
    "version": 3
   },
   "file_extension": ".py",
   "mimetype": "text/x-python",
   "name": "python",
   "nbconvert_exporter": "python",
   "pygments_lexer": "ipython3",
   "version": "3.7.9"
  },
  "toc": {
   "base_numbering": 1,
   "nav_menu": {},
   "number_sections": true,
   "sideBar": true,
   "skip_h1_title": false,
   "title_cell": "Table of Contents",
   "title_sidebar": "Contents",
   "toc_cell": false,
   "toc_position": {},
   "toc_section_display": true,
   "toc_window_display": false
  },
  "widgets": {
   "application/vnd.jupyter.widget-state+json": {
    "2fc7bd77a4a942ea85a51e73de7e2f56": {
     "model_module": "@jupyter-widgets/controls",
     "model_name": "FloatProgressModel",
     "state": {
      "_dom_classes": [],
      "_model_module": "@jupyter-widgets/controls",
      "_model_module_version": "1.5.0",
      "_model_name": "FloatProgressModel",
      "_view_count": null,
      "_view_module": "@jupyter-widgets/controls",
      "_view_module_version": "1.5.0",
      "_view_name": "ProgressView",
      "bar_style": "success",
      "description": "100%",
      "description_tooltip": null,
      "layout": "IPY_MODEL_9cd437dbdcb34c9b98206da7181426a7",
      "max": 4744,
      "min": 0,
      "orientation": "horizontal",
      "style": "IPY_MODEL_8232460db7ff45fabc785ddda78bf28a",
      "value": 4744
     }
    },
    "36a31823375f4f1282dfae486204c32d": {
     "model_module": "@jupyter-widgets/controls",
     "model_name": "HBoxModel",
     "state": {
      "_dom_classes": [],
      "_model_module": "@jupyter-widgets/controls",
      "_model_module_version": "1.5.0",
      "_model_name": "HBoxModel",
      "_view_count": null,
      "_view_module": "@jupyter-widgets/controls",
      "_view_module_version": "1.5.0",
      "_view_name": "HBoxView",
      "box_style": "",
      "children": [
       "IPY_MODEL_2fc7bd77a4a942ea85a51e73de7e2f56",
       "IPY_MODEL_38645e628e28441f9e9faba76adea63f"
      ],
      "layout": "IPY_MODEL_e7acf4cdb1cc43a9a6c211af8ecc4e8a"
     }
    },
    "38645e628e28441f9e9faba76adea63f": {
     "model_module": "@jupyter-widgets/controls",
     "model_name": "HTMLModel",
     "state": {
      "_dom_classes": [],
      "_model_module": "@jupyter-widgets/controls",
      "_model_module_version": "1.5.0",
      "_model_name": "HTMLModel",
      "_view_count": null,
      "_view_module": "@jupyter-widgets/controls",
      "_view_module_version": "1.5.0",
      "_view_name": "HTMLView",
      "description": "",
      "description_tooltip": null,
      "layout": "IPY_MODEL_c93fe451341443379de1522e11cb8bf0",
      "placeholder": "​",
      "style": "IPY_MODEL_f3a69f1b44b2458fb29184b6712b7611",
      "value": " 4744/4744 [53:58&lt;00:00,  1.46it/s]"
     }
    },
    "8232460db7ff45fabc785ddda78bf28a": {
     "model_module": "@jupyter-widgets/controls",
     "model_name": "ProgressStyleModel",
     "state": {
      "_model_module": "@jupyter-widgets/controls",
      "_model_module_version": "1.5.0",
      "_model_name": "ProgressStyleModel",
      "_view_count": null,
      "_view_module": "@jupyter-widgets/base",
      "_view_module_version": "1.2.0",
      "_view_name": "StyleView",
      "bar_color": null,
      "description_width": "initial"
     }
    },
    "9cd437dbdcb34c9b98206da7181426a7": {
     "model_module": "@jupyter-widgets/base",
     "model_name": "LayoutModel",
     "state": {
      "_model_module": "@jupyter-widgets/base",
      "_model_module_version": "1.2.0",
      "_model_name": "LayoutModel",
      "_view_count": null,
      "_view_module": "@jupyter-widgets/base",
      "_view_module_version": "1.2.0",
      "_view_name": "LayoutView",
      "align_content": null,
      "align_items": null,
      "align_self": null,
      "border": null,
      "bottom": null,
      "display": null,
      "flex": null,
      "flex_flow": null,
      "grid_area": null,
      "grid_auto_columns": null,
      "grid_auto_flow": null,
      "grid_auto_rows": null,
      "grid_column": null,
      "grid_gap": null,
      "grid_row": null,
      "grid_template_areas": null,
      "grid_template_columns": null,
      "grid_template_rows": null,
      "height": null,
      "justify_content": null,
      "justify_items": null,
      "left": null,
      "margin": null,
      "max_height": null,
      "max_width": null,
      "min_height": null,
      "min_width": null,
      "object_fit": null,
      "object_position": null,
      "order": null,
      "overflow": null,
      "overflow_x": null,
      "overflow_y": null,
      "padding": null,
      "right": null,
      "top": null,
      "visibility": null,
      "width": null
     }
    },
    "c93fe451341443379de1522e11cb8bf0": {
     "model_module": "@jupyter-widgets/base",
     "model_name": "LayoutModel",
     "state": {
      "_model_module": "@jupyter-widgets/base",
      "_model_module_version": "1.2.0",
      "_model_name": "LayoutModel",
      "_view_count": null,
      "_view_module": "@jupyter-widgets/base",
      "_view_module_version": "1.2.0",
      "_view_name": "LayoutView",
      "align_content": null,
      "align_items": null,
      "align_self": null,
      "border": null,
      "bottom": null,
      "display": null,
      "flex": null,
      "flex_flow": null,
      "grid_area": null,
      "grid_auto_columns": null,
      "grid_auto_flow": null,
      "grid_auto_rows": null,
      "grid_column": null,
      "grid_gap": null,
      "grid_row": null,
      "grid_template_areas": null,
      "grid_template_columns": null,
      "grid_template_rows": null,
      "height": null,
      "justify_content": null,
      "justify_items": null,
      "left": null,
      "margin": null,
      "max_height": null,
      "max_width": null,
      "min_height": null,
      "min_width": null,
      "object_fit": null,
      "object_position": null,
      "order": null,
      "overflow": null,
      "overflow_x": null,
      "overflow_y": null,
      "padding": null,
      "right": null,
      "top": null,
      "visibility": null,
      "width": null
     }
    },
    "e7acf4cdb1cc43a9a6c211af8ecc4e8a": {
     "model_module": "@jupyter-widgets/base",
     "model_name": "LayoutModel",
     "state": {
      "_model_module": "@jupyter-widgets/base",
      "_model_module_version": "1.2.0",
      "_model_name": "LayoutModel",
      "_view_count": null,
      "_view_module": "@jupyter-widgets/base",
      "_view_module_version": "1.2.0",
      "_view_name": "LayoutView",
      "align_content": null,
      "align_items": null,
      "align_self": null,
      "border": null,
      "bottom": null,
      "display": null,
      "flex": null,
      "flex_flow": null,
      "grid_area": null,
      "grid_auto_columns": null,
      "grid_auto_flow": null,
      "grid_auto_rows": null,
      "grid_column": null,
      "grid_gap": null,
      "grid_row": null,
      "grid_template_areas": null,
      "grid_template_columns": null,
      "grid_template_rows": null,
      "height": null,
      "justify_content": null,
      "justify_items": null,
      "left": null,
      "margin": null,
      "max_height": null,
      "max_width": null,
      "min_height": null,
      "min_width": null,
      "object_fit": null,
      "object_position": null,
      "order": null,
      "overflow": null,
      "overflow_x": null,
      "overflow_y": null,
      "padding": null,
      "right": null,
      "top": null,
      "visibility": null,
      "width": null
     }
    },
    "f3a69f1b44b2458fb29184b6712b7611": {
     "model_module": "@jupyter-widgets/controls",
     "model_name": "DescriptionStyleModel",
     "state": {
      "_model_module": "@jupyter-widgets/controls",
      "_model_module_version": "1.5.0",
      "_model_name": "DescriptionStyleModel",
      "_view_count": null,
      "_view_module": "@jupyter-widgets/base",
      "_view_module_version": "1.2.0",
      "_view_name": "StyleView",
      "description_width": ""
     }
    }
   }
  }
 },
 "nbformat": 4,
 "nbformat_minor": 1
}
